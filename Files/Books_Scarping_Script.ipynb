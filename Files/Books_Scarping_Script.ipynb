{
 "cells": [
  {
   "cell_type": "code",
   "execution_count": 3,
   "id": "614057c9-81ef-435e-a515-d3808be6b9a1",
   "metadata": {},
   "outputs": [],
   "source": [
    "import requests\n",
    "from bs4 import BeautifulSoup\n",
    "import pandas as pd"
   ]
  },
  {
   "cell_type": "code",
   "execution_count": 12,
   "id": "283c29a0-559a-492d-a7d0-bcd5ddc9de6b",
   "metadata": {},
   "outputs": [],
   "source": [
    "def get_rating(star_class):\n",
    "    rating_dict = {'One': 1, 'Two': 2, 'Three': 3, 'Four': 4, 'Five': 5}\n",
    "    for cls in star_class:\n",
    "        if cls in rating_dict:\n",
    "            return rating_dict[cls]\n",
    "    return None\n",
    "\n",
    "base_url = 'http://books.toscrape.com/catalogue/page-{}.html'\n",
    "\n",
    "book_data = []\n",
    "\n",
    "for page in range(1, 51):\n",
    "    url = base_url.format(page)\n",
    "    response = requests.get(url)\n",
    "    soup = BeautifulSoup(response.content, 'html.parser')\n",
    "\n",
    "    articles = soup.find_all('article', class_='product_pod')\n",
    "\n",
    "    for book in articles:\n",
    "        title = book.h3.a['title']\n",
    "        price = book.find('p', class_='price_color').text.strip()\n",
    "        availability = book.find('p', class_='instock availability').text.strip()\n",
    "        rating = get_rating(book.p['class'])\n",
    "\n",
    "        book_data.append({'Title': title, 'Price': price, 'Availability': availability, 'Rating': rating})"
   ]
  },
  {
   "cell_type": "code",
   "execution_count": 13,
   "id": "4db336c8-d0f4-44ba-946b-7660a2a11eff",
   "metadata": {},
   "outputs": [
    {
     "name": "stdout",
     "output_type": "stream",
     "text": [
      "                                   Title   Price Availability  Rating\n",
      "0                   A Light in the Attic  £51.77     In stock       3\n",
      "1                     Tipping the Velvet  £53.74     In stock       1\n",
      "2                             Soumission  £50.10     In stock       1\n",
      "3                          Sharp Objects  £47.82     In stock       4\n",
      "4  Sapiens: A Brief History of Humankind  £54.23     In stock       5\n"
     ]
    }
   ],
   "source": [
    "df = pd.DataFrame(book_data)\n",
    "print(df.head())"
   ]
  },
  {
   "cell_type": "code",
   "execution_count": 10,
   "id": "e01c710b-95d4-4545-910b-81c4554cb4df",
   "metadata": {},
   "outputs": [
    {
     "name": "stdout",
     "output_type": "stream",
     "text": [
      "Data has been successfully scraped and saved to 'books_scraped_data.csv'.\n"
     ]
    }
   ],
   "source": [
    "df.to_csv('books_scraped_data.csv', index=False)\n",
    "print(\"Data has been successfully scraped and saved to 'books_scraped_data.csv'.\")"
   ]
  },
  {
   "cell_type": "code",
   "execution_count": null,
   "id": "c3511233-b586-4a9e-bddf-c7ad2232b0f4",
   "metadata": {},
   "outputs": [],
   "source": []
  }
 ],
 "metadata": {
  "kernelspec": {
   "display_name": "Python [conda env:orange]",
   "language": "python",
   "name": "conda-env-orange-py"
  },
  "language_info": {
   "codemirror_mode": {
    "name": "ipython",
    "version": 3
   },
   "file_extension": ".py",
   "mimetype": "text/x-python",
   "name": "python",
   "nbconvert_exporter": "python",
   "pygments_lexer": "ipython3",
   "version": "3.9.12"
  }
 },
 "nbformat": 4,
 "nbformat_minor": 5
}
